{
 "cells": [
  {
   "cell_type": "code",
   "execution_count": 2,
   "metadata": {},
   "outputs": [
    {
     "data": {
      "text/html": [
       "<div>\n",
       "<style scoped>\n",
       "    .dataframe tbody tr th:only-of-type {\n",
       "        vertical-align: middle;\n",
       "    }\n",
       "\n",
       "    .dataframe tbody tr th {\n",
       "        vertical-align: top;\n",
       "    }\n",
       "\n",
       "    .dataframe thead th {\n",
       "        text-align: right;\n",
       "    }\n",
       "</style>\n",
       "<table border=\"1\" class=\"dataframe\">\n",
       "  <thead>\n",
       "    <tr style=\"text-align: right;\">\n",
       "      <th></th>\n",
       "      <th>Age</th>\n",
       "      <th>KM</th>\n",
       "      <th>Weight</th>\n",
       "      <th>HP</th>\n",
       "      <th>MetColor</th>\n",
       "      <th>CC</th>\n",
       "      <th>Doors</th>\n",
       "      <th>Price</th>\n",
       "    </tr>\n",
       "  </thead>\n",
       "  <tbody>\n",
       "    <tr>\n",
       "      <th>0</th>\n",
       "      <td>23.0</td>\n",
       "      <td>46986</td>\n",
       "      <td>1165.0</td>\n",
       "      <td>90</td>\n",
       "      <td>1</td>\n",
       "      <td>2000.0</td>\n",
       "      <td>3</td>\n",
       "      <td>13500</td>\n",
       "    </tr>\n",
       "    <tr>\n",
       "      <th>1</th>\n",
       "      <td>23.0</td>\n",
       "      <td>72937</td>\n",
       "      <td>1165.0</td>\n",
       "      <td>90</td>\n",
       "      <td>1</td>\n",
       "      <td>2000.0</td>\n",
       "      <td>3</td>\n",
       "      <td>13750</td>\n",
       "    </tr>\n",
       "    <tr>\n",
       "      <th>2</th>\n",
       "      <td>24.0</td>\n",
       "      <td>41711</td>\n",
       "      <td>1165.0</td>\n",
       "      <td>90</td>\n",
       "      <td>1</td>\n",
       "      <td>2000.0</td>\n",
       "      <td>3</td>\n",
       "      <td>13950</td>\n",
       "    </tr>\n",
       "    <tr>\n",
       "      <th>3</th>\n",
       "      <td>26.0</td>\n",
       "      <td>48000</td>\n",
       "      <td>1165.0</td>\n",
       "      <td>90</td>\n",
       "      <td>0</td>\n",
       "      <td>2000.0</td>\n",
       "      <td>3</td>\n",
       "      <td>14950</td>\n",
       "    </tr>\n",
       "    <tr>\n",
       "      <th>4</th>\n",
       "      <td>30.0</td>\n",
       "      <td>38500</td>\n",
       "      <td>1170.0</td>\n",
       "      <td>90</td>\n",
       "      <td>0</td>\n",
       "      <td>2000.0</td>\n",
       "      <td>3</td>\n",
       "      <td>13750</td>\n",
       "    </tr>\n",
       "  </tbody>\n",
       "</table>\n",
       "</div>"
      ],
      "text/plain": [
       "    Age     KM  Weight  HP  MetColor      CC  Doors  Price\n",
       "0  23.0  46986  1165.0  90         1  2000.0      3  13500\n",
       "1  23.0  72937  1165.0  90         1  2000.0      3  13750\n",
       "2  24.0  41711  1165.0  90         1  2000.0      3  13950\n",
       "3  26.0  48000  1165.0  90         0  2000.0      3  14950\n",
       "4  30.0  38500  1170.0  90         0  2000.0      3  13750"
      ]
     },
     "execution_count": 2,
     "metadata": {},
     "output_type": "execute_result"
    }
   ],
   "source": [
    "import pandas as pd\n",
    "import numpy as np\n",
    "\n",
    "# To remove the scientific notation from numpy arrays\n",
    "np.set_printoptions(suppress=True)\n",
    "\n",
    "CarPrices=pd.read_pickle('CarPricesData.pkl')\n",
    "CarPrices.head()"
   ]
  },
  {
   "cell_type": "code",
   "execution_count": 3,
   "metadata": {},
   "outputs": [
    {
     "name": "stdout",
     "output_type": "stream",
     "text": [
      "(1004, 7)\n",
      "(1004, 1)\n",
      "(431, 7)\n",
      "(431, 1)\n"
     ]
    }
   ],
   "source": [
    "Targetvariable = ['Price']\n",
    "Predictors=['Age', 'KM', 'Weight', 'HP', 'MetColor', 'CC', 'Doors']\n",
    "\n",
    "X = CarPrices[Predictors].values\n",
    "y=CarPrices[Targetvariable].values\n",
    "\n",
    "### Sandardization of data ###\n",
    "from sklearn.preprocessing import StandardScaler\n",
    "PredictorScaler=StandardScaler()\n",
    "TargetVarScaler=StandardScaler()\n",
    "\n",
    "# Storing the fit object for later reference\n",
    "PredictorScalerFit=PredictorScaler.fit(X)\n",
    "TargetVarScalerFit=TargetVarScaler.fit(y)\n",
    "\n",
    "\n",
    "X = PredictorScalerFit.transform(X)\n",
    "Y = TargetVarScalerFit.transform(y)\n",
    "\n",
    "# Split the data into training and testing set\n",
    "from sklearn.model_selection import train_test_split\n",
    "X_train, X_test, y_train, y_test = train_test_split(X, y, test_size=0.3, random_state=42)\n",
    "\n",
    "\n",
    "# Quick sanity check with the shapes of Training and testing datasets\n",
    "print(X_train.shape)\n",
    "print(y_train.shape)\n",
    "print(X_test.shape)\n",
    "print(y_test.shape)"
   ]
  },
  {
   "cell_type": "code",
   "execution_count": 4,
   "metadata": {},
   "outputs": [],
   "source": [
    "import keras\n",
    "from keras.models import Sequential\n",
    "from keras.layers import Dense"
   ]
  },
  {
   "cell_type": "code",
   "execution_count": 4,
   "metadata": {},
   "outputs": [],
   "source": [
    "#creating the ANN model\n",
    "model = Sequential()\n"
   ]
  },
  {
   "cell_type": "code",
   "execution_count": 5,
   "metadata": {},
   "outputs": [],
   "source": [
    "# Defining the Input layer and FIRST hidden layer, both are same!\n",
    "model.add(Dense(units=5,input_dim = 7,kernel_initializer='normal',activation='relu'))"
   ]
  },
  {
   "cell_type": "code",
   "execution_count": 6,
   "metadata": {},
   "outputs": [],
   "source": [
    "model.add(Dense(units=5,kernel_initializer='normal',activation = 'tanh'))"
   ]
  },
  {
   "cell_type": "code",
   "execution_count": 7,
   "metadata": {},
   "outputs": [],
   "source": [
    "# Since we will be predicting a single number\n",
    "model.add(Dense(1,kernel_initializer='normal'))"
   ]
  },
  {
   "cell_type": "code",
   "execution_count": 8,
   "metadata": {},
   "outputs": [],
   "source": [
    "# Compiling the model\n",
    "model.compile(loss ='mean_squared_error',optimizer = 'adam')"
   ]
  },
  {
   "cell_type": "code",
   "execution_count": 9,
   "metadata": {},
   "outputs": [
    {
     "name": "stdout",
     "output_type": "stream",
     "text": [
      "Epoch 1/50\n",
      "51/51 [==============================] - 1s 1ms/step - loss: 127444280.0000\n",
      "Epoch 2/50\n",
      "51/51 [==============================] - 0s 1ms/step - loss: 127441688.0000\n",
      "Epoch 3/50\n",
      "51/51 [==============================] - 0s 1ms/step - loss: 127435272.0000\n",
      "Epoch 4/50\n",
      "51/51 [==============================] - 0s 3ms/step - loss: 127423696.0000\n",
      "Epoch 5/50\n",
      "51/51 [==============================] - 0s 2ms/step - loss: 127409744.0000\n",
      "Epoch 6/50\n",
      "51/51 [==============================] - 0s 1ms/step - loss: 127396600.0000\n",
      "Epoch 7/50\n",
      "51/51 [==============================] - 0s 1ms/step - loss: 127385104.0000\n",
      "Epoch 8/50\n",
      "51/51 [==============================] - 0s 1ms/step - loss: 127374872.0000\n",
      "Epoch 9/50\n",
      "51/51 [==============================] - 0s 1ms/step - loss: 127365496.0000\n",
      "Epoch 10/50\n",
      "51/51 [==============================] - 0s 1ms/step - loss: 127356568.0000\n",
      "Epoch 11/50\n",
      "51/51 [==============================] - 0s 1ms/step - loss: 127347968.0000\n",
      "Epoch 12/50\n",
      "51/51 [==============================] - 0s 1ms/step - loss: 127339552.0000\n",
      "Epoch 13/50\n",
      "51/51 [==============================] - 0s 1ms/step - loss: 127331216.0000\n",
      "Epoch 14/50\n",
      "51/51 [==============================] - 0s 1ms/step - loss: 127323112.0000\n",
      "Epoch 15/50\n",
      "51/51 [==============================] - 0s 1ms/step - loss: 127315176.0000\n",
      "Epoch 16/50\n",
      "51/51 [==============================] - 0s 1ms/step - loss: 127307456.0000\n",
      "Epoch 17/50\n",
      "51/51 [==============================] - 0s 1ms/step - loss: 127299912.0000\n",
      "Epoch 18/50\n",
      "51/51 [==============================] - 0s 1ms/step - loss: 127292544.0000\n",
      "Epoch 19/50\n",
      "51/51 [==============================] - 0s 977us/step - loss: 127285272.0000\n",
      "Epoch 20/50\n",
      "51/51 [==============================] - 0s 2ms/step - loss: 127278048.0000\n",
      "Epoch 21/50\n",
      "51/51 [==============================] - 0s 977us/step - loss: 127270928.0000\n",
      "Epoch 22/50\n",
      "51/51 [==============================] - 0s 898us/step - loss: 127263896.0000\n",
      "Epoch 23/50\n",
      "51/51 [==============================] - 0s 937us/step - loss: 127256864.0000\n",
      "Epoch 24/50\n",
      "51/51 [==============================] - 0s 898us/step - loss: 127249848.0000\n",
      "Epoch 25/50\n",
      "51/51 [==============================] - 0s 1ms/step - loss: 127242896.0000\n",
      "Epoch 26/50\n",
      "51/51 [==============================] - 0s 958us/step - loss: 127235976.0000\n",
      "Epoch 27/50\n",
      "51/51 [==============================] - 0s 988us/step - loss: 127229096.0000\n",
      "Epoch 28/50\n",
      "51/51 [==============================] - 0s 957us/step - loss: 127222264.0000\n",
      "Epoch 29/50\n",
      "51/51 [==============================] - 0s 980us/step - loss: 127215376.0000\n",
      "Epoch 30/50\n",
      "51/51 [==============================] - 0s 937us/step - loss: 127208600.0000\n",
      "Epoch 31/50\n",
      "51/51 [==============================] - 0s 937us/step - loss: 127201808.0000\n",
      "Epoch 32/50\n",
      "51/51 [==============================] - 0s 977us/step - loss: 127195032.0000\n",
      "Epoch 33/50\n",
      "51/51 [==============================] - 0s 1ms/step - loss: 127188288.0000\n",
      "Epoch 34/50\n",
      "51/51 [==============================] - 0s 978us/step - loss: 127181544.0000\n",
      "Epoch 35/50\n",
      "51/51 [==============================] - 0s 1ms/step - loss: 127174800.0000\n",
      "Epoch 36/50\n",
      "51/51 [==============================] - 0s 1ms/step - loss: 127168064.0000\n",
      "Epoch 37/50\n",
      "51/51 [==============================] - 0s 1ms/step - loss: 127161336.0000\n",
      "Epoch 38/50\n",
      "51/51 [==============================] - 0s 1ms/step - loss: 127154656.0000\n",
      "Epoch 39/50\n",
      "51/51 [==============================] - 0s 1ms/step - loss: 127147968.0000\n",
      "Epoch 40/50\n",
      "51/51 [==============================] - 0s 984us/step - loss: 127141288.0000\n",
      "Epoch 41/50\n",
      "51/51 [==============================] - 0s 977us/step - loss: 127134624.0000\n",
      "Epoch 42/50\n",
      "51/51 [==============================] - 0s 998us/step - loss: 127127984.0000\n",
      "Epoch 43/50\n",
      "51/51 [==============================] - 0s 938us/step - loss: 127121352.0000\n",
      "Epoch 44/50\n",
      "51/51 [==============================] - 0s 2ms/step - loss: 127114752.0000\n",
      "Epoch 45/50\n",
      "51/51 [==============================] - 0s 898us/step - loss: 127108088.0000\n",
      "Epoch 46/50\n",
      "51/51 [==============================] - 0s 916us/step - loss: 127101488.0000\n",
      "Epoch 47/50\n",
      "51/51 [==============================] - 0s 1ms/step - loss: 127094872.0000\n",
      "Epoch 48/50\n",
      "51/51 [==============================] - 0s 957us/step - loss: 127088264.0000\n",
      "Epoch 49/50\n",
      "51/51 [==============================] - 0s 994us/step - loss: 127081656.0000\n",
      "Epoch 50/50\n",
      "51/51 [==============================] - 0s 956us/step - loss: 127075040.0000\n"
     ]
    },
    {
     "data": {
      "text/plain": [
       "<keras.src.callbacks.History at 0x258a1874b10>"
      ]
     },
     "execution_count": 9,
     "metadata": {},
     "output_type": "execute_result"
    }
   ],
   "source": [
    "model.fit(X_train,y_train,batch_size=20,epochs=50,verbose=1)"
   ]
  },
  {
   "cell_type": "code",
   "execution_count": 10,
   "metadata": {},
   "outputs": [],
   "source": [
    "#Finding best set of parameters using manual grid search\n",
    "\n",
    "def functionfindbestparams(X_train,y_train,X_test,y_test):\n",
    "    \n",
    "    # Defining the list of hyper parameters to try\n",
    "    batch_size_list=[5, 10, 15, 20]\n",
    "    epoch_list  =   [5, 10, 50, 100]\n",
    "    \n",
    "    import pandas as pd\n",
    "    SearchResultsData=pd.DataFrame(columns=['TrialNumber', 'Parameters', 'Accuracy'])\n",
    "    \n",
    "    \n",
    "    #initializing the Trails\n",
    "    Trailnumber = 0\n",
    "    for batch_size_trail in batch_size_list:\n",
    "        for epochs_trail in epoch_list:\n",
    "          Trailnumber+=1\n",
    "          \n",
    "          #creating the ANN\n",
    "          model = Sequential()\n",
    "          #First layer\n",
    "          model.add(Dense(units=5, input_dim=X_train.shape[1], kernel_initializer='normal', activation='relu'))\n",
    "          \n",
    "          #secod layer\n",
    "          model.add(Dense(units = 5,kernel_initializer='normal', activation='relu'))\n",
    "          \n",
    "          model.add(Dense(1, kernel_initializer='normal'))\n",
    "          \n",
    "          # Compiling the model\n",
    "          model.compile(loss='mean_squared_error', optimizer='adam')\n",
    "          \n",
    "          # Fitting the ANN to the Training set\n",
    "          model.fit(X_train, y_train ,batch_size = batch_size_trail, epochs = epochs_trail, verbose=0)\n",
    "          \n",
    "          \n",
    "          MAPE = np.mean(100*(np.abs(y_test-model.predict(X_test))/y_test))\n",
    "          \n",
    "          # printing the results of the current iteration\n",
    "          print(Trailnumber, 'Parameters:','batch_size:', batch_size_trail,'-', 'epochs:',epochs_trail, 'Accuracy:', 100-MAPE)\n",
    "            \n",
    "          SearchResultsData=SearchResultsData.append(pd.DataFrame(data=[[Trailnumber, str(batch_size_trail)+'-'+str(epochs_trail), 100-MAPE]],\n",
    "                                                                    columns=['TrialNumber', 'Parameters', 'Accuracy'] ))\n",
    "    return(SearchResultsData)\n",
    " \n",
    "  "
   ]
  },
  {
   "cell_type": "code",
   "execution_count": 11,
   "metadata": {},
   "outputs": [
    {
     "name": "stdout",
     "output_type": "stream",
     "text": [
      "14/14 [==============================] - 0s 920us/step\n",
      "1 Parameters: batch_size: 5 - epochs: 5 Accuracy: 1.0338468426366205\n"
     ]
    },
    {
     "name": "stderr",
     "output_type": "stream",
     "text": [
      "C:\\Users\\amits\\AppData\\Local\\Temp\\ipykernel_22236\\1652241918.py:41: FutureWarning: The frame.append method is deprecated and will be removed from pandas in a future version. Use pandas.concat instead.\n",
      "  SearchResultsData=SearchResultsData.append(pd.DataFrame(data=[[Trailnumber, str(batch_size_trail)+'-'+str(epochs_trail), 100-MAPE]],\n"
     ]
    },
    {
     "name": "stdout",
     "output_type": "stream",
     "text": [
      "14/14 [==============================] - 0s 1ms/step\n",
      "2 Parameters: batch_size: 5 - epochs: 10 Accuracy: 6.623781398385191\n"
     ]
    },
    {
     "name": "stderr",
     "output_type": "stream",
     "text": [
      "C:\\Users\\amits\\AppData\\Local\\Temp\\ipykernel_22236\\1652241918.py:41: FutureWarning: The frame.append method is deprecated and will be removed from pandas in a future version. Use pandas.concat instead.\n",
      "  SearchResultsData=SearchResultsData.append(pd.DataFrame(data=[[Trailnumber, str(batch_size_trail)+'-'+str(epochs_trail), 100-MAPE]],\n"
     ]
    },
    {
     "name": "stdout",
     "output_type": "stream",
     "text": [
      "14/14 [==============================] - 0s 1ms/step\n",
      "3 Parameters: batch_size: 5 - epochs: 50 Accuracy: 87.28643608831668\n"
     ]
    },
    {
     "name": "stderr",
     "output_type": "stream",
     "text": [
      "C:\\Users\\amits\\AppData\\Local\\Temp\\ipykernel_22236\\1652241918.py:41: FutureWarning: The frame.append method is deprecated and will be removed from pandas in a future version. Use pandas.concat instead.\n",
      "  SearchResultsData=SearchResultsData.append(pd.DataFrame(data=[[Trailnumber, str(batch_size_trail)+'-'+str(epochs_trail), 100-MAPE]],\n"
     ]
    },
    {
     "name": "stdout",
     "output_type": "stream",
     "text": [
      "14/14 [==============================] - 0s 1ms/step\n",
      "4 Parameters: batch_size: 5 - epochs: 100 Accuracy: 90.29690630453922\n"
     ]
    },
    {
     "name": "stderr",
     "output_type": "stream",
     "text": [
      "C:\\Users\\amits\\AppData\\Local\\Temp\\ipykernel_22236\\1652241918.py:41: FutureWarning: The frame.append method is deprecated and will be removed from pandas in a future version. Use pandas.concat instead.\n",
      "  SearchResultsData=SearchResultsData.append(pd.DataFrame(data=[[Trailnumber, str(batch_size_trail)+'-'+str(epochs_trail), 100-MAPE]],\n"
     ]
    },
    {
     "name": "stdout",
     "output_type": "stream",
     "text": [
      "14/14 [==============================] - 0s 2ms/step\n",
      "5 Parameters: batch_size: 10 - epochs: 5 Accuracy: 0.26460670586506296\n"
     ]
    },
    {
     "name": "stderr",
     "output_type": "stream",
     "text": [
      "C:\\Users\\amits\\AppData\\Local\\Temp\\ipykernel_22236\\1652241918.py:41: FutureWarning: The frame.append method is deprecated and will be removed from pandas in a future version. Use pandas.concat instead.\n",
      "  SearchResultsData=SearchResultsData.append(pd.DataFrame(data=[[Trailnumber, str(batch_size_trail)+'-'+str(epochs_trail), 100-MAPE]],\n"
     ]
    },
    {
     "name": "stdout",
     "output_type": "stream",
     "text": [
      "14/14 [==============================] - 0s 2ms/step\n",
      "6 Parameters: batch_size: 10 - epochs: 10 Accuracy: 1.5350537766113916\n"
     ]
    },
    {
     "name": "stderr",
     "output_type": "stream",
     "text": [
      "C:\\Users\\amits\\AppData\\Local\\Temp\\ipykernel_22236\\1652241918.py:41: FutureWarning: The frame.append method is deprecated and will be removed from pandas in a future version. Use pandas.concat instead.\n",
      "  SearchResultsData=SearchResultsData.append(pd.DataFrame(data=[[Trailnumber, str(batch_size_trail)+'-'+str(epochs_trail), 100-MAPE]],\n"
     ]
    },
    {
     "name": "stdout",
     "output_type": "stream",
     "text": [
      "14/14 [==============================] - 0s 2ms/step\n",
      "7 Parameters: batch_size: 10 - epochs: 50 Accuracy: 67.58626551753392\n"
     ]
    },
    {
     "name": "stderr",
     "output_type": "stream",
     "text": [
      "C:\\Users\\amits\\AppData\\Local\\Temp\\ipykernel_22236\\1652241918.py:41: FutureWarning: The frame.append method is deprecated and will be removed from pandas in a future version. Use pandas.concat instead.\n",
      "  SearchResultsData=SearchResultsData.append(pd.DataFrame(data=[[Trailnumber, str(batch_size_trail)+'-'+str(epochs_trail), 100-MAPE]],\n"
     ]
    },
    {
     "name": "stdout",
     "output_type": "stream",
     "text": [
      "14/14 [==============================] - 0s 1ms/step\n",
      "8 Parameters: batch_size: 10 - epochs: 100 Accuracy: 87.56803740883474\n"
     ]
    },
    {
     "name": "stderr",
     "output_type": "stream",
     "text": [
      "C:\\Users\\amits\\AppData\\Local\\Temp\\ipykernel_22236\\1652241918.py:41: FutureWarning: The frame.append method is deprecated and will be removed from pandas in a future version. Use pandas.concat instead.\n",
      "  SearchResultsData=SearchResultsData.append(pd.DataFrame(data=[[Trailnumber, str(batch_size_trail)+'-'+str(epochs_trail), 100-MAPE]],\n"
     ]
    },
    {
     "name": "stdout",
     "output_type": "stream",
     "text": [
      "14/14 [==============================] - 0s 1ms/step\n",
      "9 Parameters: batch_size: 15 - epochs: 5 Accuracy: 0.03662564957872405\n"
     ]
    },
    {
     "name": "stderr",
     "output_type": "stream",
     "text": [
      "C:\\Users\\amits\\AppData\\Local\\Temp\\ipykernel_22236\\1652241918.py:41: FutureWarning: The frame.append method is deprecated and will be removed from pandas in a future version. Use pandas.concat instead.\n",
      "  SearchResultsData=SearchResultsData.append(pd.DataFrame(data=[[Trailnumber, str(batch_size_trail)+'-'+str(epochs_trail), 100-MAPE]],\n"
     ]
    },
    {
     "name": "stdout",
     "output_type": "stream",
     "text": [
      "14/14 [==============================] - 0s 1ms/step\n",
      "10 Parameters: batch_size: 15 - epochs: 10 Accuracy: 0.3996558755085289\n"
     ]
    },
    {
     "name": "stderr",
     "output_type": "stream",
     "text": [
      "C:\\Users\\amits\\AppData\\Local\\Temp\\ipykernel_22236\\1652241918.py:41: FutureWarning: The frame.append method is deprecated and will be removed from pandas in a future version. Use pandas.concat instead.\n",
      "  SearchResultsData=SearchResultsData.append(pd.DataFrame(data=[[Trailnumber, str(batch_size_trail)+'-'+str(epochs_trail), 100-MAPE]],\n"
     ]
    },
    {
     "name": "stdout",
     "output_type": "stream",
     "text": [
      "14/14 [==============================] - 0s 2ms/step\n",
      "11 Parameters: batch_size: 15 - epochs: 50 Accuracy: 20.751577924008913\n"
     ]
    },
    {
     "name": "stderr",
     "output_type": "stream",
     "text": [
      "C:\\Users\\amits\\AppData\\Local\\Temp\\ipykernel_22236\\1652241918.py:41: FutureWarning: The frame.append method is deprecated and will be removed from pandas in a future version. Use pandas.concat instead.\n",
      "  SearchResultsData=SearchResultsData.append(pd.DataFrame(data=[[Trailnumber, str(batch_size_trail)+'-'+str(epochs_trail), 100-MAPE]],\n"
     ]
    },
    {
     "name": "stdout",
     "output_type": "stream",
     "text": [
      "14/14 [==============================] - 0s 2ms/step\n",
      "12 Parameters: batch_size: 15 - epochs: 100 Accuracy: 44.347905322701486\n"
     ]
    },
    {
     "name": "stderr",
     "output_type": "stream",
     "text": [
      "C:\\Users\\amits\\AppData\\Local\\Temp\\ipykernel_22236\\1652241918.py:41: FutureWarning: The frame.append method is deprecated and will be removed from pandas in a future version. Use pandas.concat instead.\n",
      "  SearchResultsData=SearchResultsData.append(pd.DataFrame(data=[[Trailnumber, str(batch_size_trail)+'-'+str(epochs_trail), 100-MAPE]],\n"
     ]
    },
    {
     "name": "stdout",
     "output_type": "stream",
     "text": [
      "14/14 [==============================] - 0s 2ms/step\n",
      "13 Parameters: batch_size: 20 - epochs: 5 Accuracy: 0.02467205393338645\n"
     ]
    },
    {
     "name": "stderr",
     "output_type": "stream",
     "text": [
      "C:\\Users\\amits\\AppData\\Local\\Temp\\ipykernel_22236\\1652241918.py:41: FutureWarning: The frame.append method is deprecated and will be removed from pandas in a future version. Use pandas.concat instead.\n",
      "  SearchResultsData=SearchResultsData.append(pd.DataFrame(data=[[Trailnumber, str(batch_size_trail)+'-'+str(epochs_trail), 100-MAPE]],\n"
     ]
    },
    {
     "name": "stdout",
     "output_type": "stream",
     "text": [
      "14/14 [==============================] - 0s 2ms/step\n",
      "14 Parameters: batch_size: 20 - epochs: 10 Accuracy: 0.18769006531850607\n"
     ]
    },
    {
     "name": "stderr",
     "output_type": "stream",
     "text": [
      "C:\\Users\\amits\\AppData\\Local\\Temp\\ipykernel_22236\\1652241918.py:41: FutureWarning: The frame.append method is deprecated and will be removed from pandas in a future version. Use pandas.concat instead.\n",
      "  SearchResultsData=SearchResultsData.append(pd.DataFrame(data=[[Trailnumber, str(batch_size_trail)+'-'+str(epochs_trail), 100-MAPE]],\n"
     ]
    },
    {
     "name": "stdout",
     "output_type": "stream",
     "text": [
      "14/14 [==============================] - 0s 2ms/step\n",
      "15 Parameters: batch_size: 20 - epochs: 50 Accuracy: 4.34031402748775\n"
     ]
    },
    {
     "name": "stderr",
     "output_type": "stream",
     "text": [
      "C:\\Users\\amits\\AppData\\Local\\Temp\\ipykernel_22236\\1652241918.py:41: FutureWarning: The frame.append method is deprecated and will be removed from pandas in a future version. Use pandas.concat instead.\n",
      "  SearchResultsData=SearchResultsData.append(pd.DataFrame(data=[[Trailnumber, str(batch_size_trail)+'-'+str(epochs_trail), 100-MAPE]],\n"
     ]
    },
    {
     "name": "stdout",
     "output_type": "stream",
     "text": [
      "14/14 [==============================] - 0s 2ms/step\n",
      "16 Parameters: batch_size: 20 - epochs: 100 Accuracy: 22.865297268341223\n"
     ]
    },
    {
     "name": "stderr",
     "output_type": "stream",
     "text": [
      "C:\\Users\\amits\\AppData\\Local\\Temp\\ipykernel_22236\\1652241918.py:41: FutureWarning: The frame.append method is deprecated and will be removed from pandas in a future version. Use pandas.concat instead.\n",
      "  SearchResultsData=SearchResultsData.append(pd.DataFrame(data=[[Trailnumber, str(batch_size_trail)+'-'+str(epochs_trail), 100-MAPE]],\n"
     ]
    }
   ],
   "source": [
    "# Calling the function\n",
    "Results_Data = functionfindbestparams(X_train,y_train,X_test,y_test)\n"
   ]
  },
  {
   "cell_type": "code",
   "execution_count": 24,
   "metadata": {},
   "outputs": [
    {
     "name": "stdout",
     "output_type": "stream",
     "text": [
      "14/14 [==============================] - 0s 920us/step\n"
     ]
    },
    {
     "data": {
      "text/html": [
       "<div>\n",
       "<style scoped>\n",
       "    .dataframe tbody tr th:only-of-type {\n",
       "        vertical-align: middle;\n",
       "    }\n",
       "\n",
       "    .dataframe tbody tr th {\n",
       "        vertical-align: top;\n",
       "    }\n",
       "\n",
       "    .dataframe thead th {\n",
       "        text-align: right;\n",
       "    }\n",
       "</style>\n",
       "<table border=\"1\" class=\"dataframe\">\n",
       "  <thead>\n",
       "    <tr style=\"text-align: right;\">\n",
       "      <th></th>\n",
       "      <th>Age</th>\n",
       "      <th>KM</th>\n",
       "      <th>Weight</th>\n",
       "      <th>HP</th>\n",
       "      <th>MetColor</th>\n",
       "      <th>CC</th>\n",
       "      <th>Doors</th>\n",
       "      <th>Price</th>\n",
       "      <th>PredictedPrice</th>\n",
       "    </tr>\n",
       "  </thead>\n",
       "  <tbody>\n",
       "    <tr>\n",
       "      <th>0</th>\n",
       "      <td>59.0</td>\n",
       "      <td>80430.0</td>\n",
       "      <td>1065.0</td>\n",
       "      <td>110.0</td>\n",
       "      <td>1.0</td>\n",
       "      <td>1600.0</td>\n",
       "      <td>3.0</td>\n",
       "      <td>3.590510e+07</td>\n",
       "      <td>1060465.0</td>\n",
       "    </tr>\n",
       "    <tr>\n",
       "      <th>1</th>\n",
       "      <td>62.0</td>\n",
       "      <td>64797.0</td>\n",
       "      <td>1075.0</td>\n",
       "      <td>110.0</td>\n",
       "      <td>1.0</td>\n",
       "      <td>1600.0</td>\n",
       "      <td>5.0</td>\n",
       "      <td>2.885249e+07</td>\n",
       "      <td>1060465.0</td>\n",
       "    </tr>\n",
       "    <tr>\n",
       "      <th>2</th>\n",
       "      <td>59.0</td>\n",
       "      <td>130000.0</td>\n",
       "      <td>1135.0</td>\n",
       "      <td>72.0</td>\n",
       "      <td>1.0</td>\n",
       "      <td>2000.0</td>\n",
       "      <td>4.0</td>\n",
       "      <td>2.706679e+07</td>\n",
       "      <td>1060465.0</td>\n",
       "    </tr>\n",
       "    <tr>\n",
       "      <th>3</th>\n",
       "      <td>69.0</td>\n",
       "      <td>42800.0</td>\n",
       "      <td>1050.0</td>\n",
       "      <td>110.0</td>\n",
       "      <td>1.0</td>\n",
       "      <td>1600.0</td>\n",
       "      <td>3.0</td>\n",
       "      <td>3.590510e+07</td>\n",
       "      <td>1060465.0</td>\n",
       "    </tr>\n",
       "    <tr>\n",
       "      <th>4</th>\n",
       "      <td>65.0</td>\n",
       "      <td>47014.0</td>\n",
       "      <td>1015.0</td>\n",
       "      <td>86.0</td>\n",
       "      <td>1.0</td>\n",
       "      <td>1300.0</td>\n",
       "      <td>3.0</td>\n",
       "      <td>3.229763e+07</td>\n",
       "      <td>1060465.0</td>\n",
       "    </tr>\n",
       "  </tbody>\n",
       "</table>\n",
       "</div>"
      ],
      "text/plain": [
       "    Age        KM  Weight     HP  MetColor      CC  Doors         Price  \\\n",
       "0  59.0   80430.0  1065.0  110.0       1.0  1600.0    3.0  3.590510e+07   \n",
       "1  62.0   64797.0  1075.0  110.0       1.0  1600.0    5.0  2.885249e+07   \n",
       "2  59.0  130000.0  1135.0   72.0       1.0  2000.0    4.0  2.706679e+07   \n",
       "3  69.0   42800.0  1050.0  110.0       1.0  1600.0    3.0  3.590510e+07   \n",
       "4  65.0   47014.0  1015.0   86.0       1.0  1300.0    3.0  3.229763e+07   \n",
       "\n",
       "   PredictedPrice  \n",
       "0       1060465.0  \n",
       "1       1060465.0  \n",
       "2       1060465.0  \n",
       "3       1060465.0  \n",
       "4       1060465.0  "
      ]
     },
     "execution_count": 24,
     "metadata": {},
     "output_type": "execute_result"
    }
   ],
   "source": [
    "#Training the ANN model with the best parameters\n",
    "\n",
    "model.fit(X_train, y_train ,batch_size = 20, epochs = 100, verbose=0)\n",
    "\n",
    "\n",
    "predictions=model.predict(X_test)\n",
    "\n",
    "predictions = TargetVarScalerFit.inverse_transform(predictions)\n",
    "\n",
    "#scaling the y_test\n",
    "\n",
    "y_test_org = TargetVarScalerFit.inverse_transform(y_test)\n",
    "\n",
    "Test_Data=PredictorScalerFit.inverse_transform(X_test)\n",
    " \n",
    "TestingData=pd.DataFrame(data=Test_Data, columns=Predictors)\n",
    "TestingData['Price']=y_test_org\n",
    "TestingData['PredictedPrice']=predictions\n",
    "TestingData.head()"
   ]
  },
  {
   "cell_type": "code",
   "execution_count": null,
   "metadata": {},
   "outputs": [],
   "source": []
  },
  {
   "cell_type": "code",
   "execution_count": null,
   "metadata": {},
   "outputs": [],
   "source": []
  },
  {
   "cell_type": "code",
   "execution_count": null,
   "metadata": {},
   "outputs": [],
   "source": []
  },
  {
   "cell_type": "code",
   "execution_count": null,
   "metadata": {},
   "outputs": [],
   "source": []
  },
  {
   "cell_type": "code",
   "execution_count": null,
   "metadata": {},
   "outputs": [],
   "source": []
  },
  {
   "cell_type": "code",
   "execution_count": null,
   "metadata": {},
   "outputs": [],
   "source": []
  },
  {
   "cell_type": "code",
   "execution_count": null,
   "metadata": {},
   "outputs": [],
   "source": []
  },
  {
   "cell_type": "code",
   "execution_count": null,
   "metadata": {},
   "outputs": [],
   "source": []
  },
  {
   "cell_type": "code",
   "execution_count": null,
   "metadata": {},
   "outputs": [],
   "source": []
  },
  {
   "cell_type": "code",
   "execution_count": null,
   "metadata": {},
   "outputs": [],
   "source": []
  }
 ],
 "metadata": {
  "kernelspec": {
   "display_name": "Python 3 (ipykernel)",
   "language": "python",
   "name": "python3"
  },
  "language_info": {
   "codemirror_mode": {
    "name": "ipython",
    "version": 3
   },
   "file_extension": ".py",
   "mimetype": "text/x-python",
   "name": "python",
   "nbconvert_exporter": "python",
   "pygments_lexer": "ipython3",
   "version": "3.11.3"
  }
 },
 "nbformat": 4,
 "nbformat_minor": 2
}
